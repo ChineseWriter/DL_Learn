{
 "cells": [
  {
   "cell_type": "markdown",
   "id": "ce78432d",
   "metadata": {},
   "source": [
    "<center><img src=\"WHU.png\" alt=\"武汉大学校徽\"/></center>\n",
    "<center><font size=\"7\">实验报告</font></center>"
   ]
  },
  {
   "cell_type": "markdown",
   "id": "0ab4a588",
   "metadata": {},
   "source": [
    "# 神经网络可视化实验\n",
    "专业: 临床医学(八年制)  \n",
    "班级: 3班  \n",
    "姓名: 闫鸿黎  \n",
    "学号: 2024305233084  \n",
    "指导教师: 王翀  "
   ]
  },
  {
   "cell_type": "markdown",
   "id": "c264c56a",
   "metadata": {},
   "source": [
    "## 实验环境说明\n",
    "本地实验的配置信息如下:\n",
    "1. 该实验所使用的操作系统为 Ubuntu 24.04 LTS, CPU 为 AMD RYZEN 5000 Series 7, GPU 为 Geforce RTX 3050.\n",
    "2. 该实验使用的 Python 版本为 3.12.3, CUDA Toolkit 版本为 12.4, cuDNN 版本为 9.8, [Pytorch](https://pytorch.org/) 版本为 2.6.\n",
    "\n",
    "云端实验的配置信息如下:  \n",
    "该实验所使用的浏览器为 Firefox, 浏览器中使用 [TensorFlow Playground](https://playground.tensorflow.org/) 进行探究."
   ]
  },
  {
   "cell_type": "markdown",
   "id": "10ae7481",
   "metadata": {},
   "source": [
    "\n",
    "## 实验目标\n",
    "1. 理解神经网络的基本结构: 了解神经网络的层(Layer), 包括输入层(Iuput Layer), 隐藏层(Hidden Layer), 输出层(Output Layer); 了解神经网络的激活函数(Activation Function), 包括但不限于线性整流函数(ReLU), 双曲正弦函数(Tanh), S型函数(Sigmoid), 归一化指数函数(Softmax)等. 学会合理配置神经网络层数以及每层神经元数.\n",
    "2. 观察神经网络的训练过程: 了解损失函数(Loss Function), 参数更新策略(Parameter Update Strategy), 学习率(Learning Rate), 前向传播(Forward), 反向传播(Backward), 批大小(Batch Size), 训练轮数(Epoch)的概念, 学会通过损失曲线(Loss Curve)判断网络是否在学习.\n",
    "3. 掌握神经网络的超参数调优: 学会调整 Learning rate, 理解它对训练速度的影响; 尝试不同激活函数, 观察分类效果的变化; 了解正则化(Regularization)以及如何防止模型过拟合.\n",
    "4. 理解神经网络能解决的问题类型: 通过不同数据集(如圆形分布, 螺旋分布等)，理解神经网络如何分类复杂数据, 学会通过添加特征(如$X^2$​, $\\sin(x)$等​)提升模型性能.\n",
    "5. 培养动手实践和问题解决能力: 通过调整参数和结构，完成分类任务挑战; 学会分析实验结果，提出改进方案."
   ]
  },
  {
   "cell_type": "code",
   "execution_count": null,
   "id": "837d4d95",
   "metadata": {},
   "outputs": [],
   "source": [
    "import seaborn as sns\n",
    "\n",
    "print(\"Hello World!\")"
   ]
  },
  {
   "cell_type": "markdown",
   "id": "3278e4be",
   "metadata": {},
   "source": [
    "## 参考文献\n",
    "[动手学深度学习(第二版)](动手学深度学习(第二版).pdf)"
   ]
  }
 ],
 "metadata": {
  "kernelspec": {
   "display_name": ".venv",
   "language": "python",
   "name": "python3"
  },
  "language_info": {
   "codemirror_mode": {
    "name": "ipython",
    "version": 3
   },
   "file_extension": ".py",
   "mimetype": "text/x-python",
   "name": "python",
   "nbconvert_exporter": "python",
   "pygments_lexer": "ipython3",
   "version": "3.12.3"
  }
 },
 "nbformat": 4,
 "nbformat_minor": 5
}
